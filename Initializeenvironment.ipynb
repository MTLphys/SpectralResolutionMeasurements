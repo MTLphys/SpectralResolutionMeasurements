{
 "cells": [
  {
   "cell_type": "code",
   "execution_count": 1,
   "metadata": {},
   "outputs": [
    {
     "name": "stdout",
     "output_type": "stream",
     "text": [
      "Collecting dearpygui\n",
      "  Using cached dearpygui-1.11.1-cp311-cp311-win_amd64.whl.metadata (13 kB)\n",
      "Using cached dearpygui-1.11.1-cp311-cp311-win_amd64.whl (1.7 MB)\n",
      "Installing collected packages: dearpygui\n",
      "Successfully installed dearpygui-1.11.1\n",
      "Note: you may need to restart the kernel to use updated packages.\n"
     ]
    }
   ],
   "source": [
    "pip install dearpygui "
   ]
  },
  {
   "cell_type": "code",
   "execution_count": 2,
   "metadata": {},
   "outputs": [
    {
     "name": "stdout",
     "output_type": "stream",
     "text": [
      "Collecting numpy\n",
      "  Downloading numpy-2.1.2-cp311-cp311-win_amd64.whl.metadata (59 kB)\n",
      "Downloading numpy-2.1.2-cp311-cp311-win_amd64.whl (12.9 MB)\n",
      "   ---------------------------------------- 0.0/12.9 MB ? eta -:--:--\n",
      "   ----------- ---------------------------- 3.7/12.9 MB 19.8 MB/s eta 0:00:01\n",
      "   ------------------- -------------------- 6.3/12.9 MB 17.5 MB/s eta 0:00:01\n",
      "   ------------------------ --------------- 7.9/12.9 MB 15.2 MB/s eta 0:00:01\n",
      "   ---------------------------------- ----- 11.0/12.9 MB 13.5 MB/s eta 0:00:01\n",
      "   ---------------------------------------- 12.9/12.9 MB 12.8 MB/s eta 0:00:00\n",
      "Installing collected packages: numpy\n",
      "Successfully installed numpy-2.1.2\n",
      "Note: you may need to restart the kernel to use updated packages.\n"
     ]
    }
   ],
   "source": [
    "pip install numpy "
   ]
  },
  {
   "cell_type": "code",
   "execution_count": 3,
   "metadata": {},
   "outputs": [
    {
     "name": "stdout",
     "output_type": "stream",
     "text": [
      "Collecting matplotlibNote: you may need to restart the kernel to use updated packages.\n",
      "\n",
      "  Using cached matplotlib-3.9.2-cp311-cp311-win_amd64.whl.metadata (11 kB)\n",
      "Collecting contourpy>=1.0.1 (from matplotlib)\n",
      "  Using cached contourpy-1.3.0-cp311-cp311-win_amd64.whl.metadata (5.4 kB)\n",
      "Collecting cycler>=0.10 (from matplotlib)\n",
      "  Using cached cycler-0.12.1-py3-none-any.whl.metadata (3.8 kB)\n",
      "Collecting fonttools>=4.22.0 (from matplotlib)\n",
      "  Using cached fonttools-4.54.1-cp311-cp311-win_amd64.whl.metadata (167 kB)\n",
      "Collecting kiwisolver>=1.3.1 (from matplotlib)\n",
      "  Using cached kiwisolver-1.4.7-cp311-cp311-win_amd64.whl.metadata (6.4 kB)\n",
      "Requirement already satisfied: numpy>=1.23 in c:\\users\\mattl\\onedrive - university of cincinnati\\desktop\\work programs\\collection programs\\spectralresolutionmeasurements\\.venv\\lib\\site-packages (from matplotlib) (2.1.2)\n",
      "Requirement already satisfied: packaging>=20.0 in c:\\users\\mattl\\onedrive - university of cincinnati\\desktop\\work programs\\collection programs\\spectralresolutionmeasurements\\.venv\\lib\\site-packages (from matplotlib) (24.1)\n",
      "Collecting pillow>=8 (from matplotlib)\n",
      "  Using cached pillow-10.4.0-cp311-cp311-win_amd64.whl.metadata (9.3 kB)\n",
      "Collecting pyparsing>=2.3.1 (from matplotlib)\n",
      "  Using cached pyparsing-3.1.4-py3-none-any.whl.metadata (5.1 kB)\n",
      "Requirement already satisfied: python-dateutil>=2.7 in c:\\users\\mattl\\onedrive - university of cincinnati\\desktop\\work programs\\collection programs\\spectralresolutionmeasurements\\.venv\\lib\\site-packages (from matplotlib) (2.9.0.post0)\n",
      "Requirement already satisfied: six>=1.5 in c:\\users\\mattl\\onedrive - university of cincinnati\\desktop\\work programs\\collection programs\\spectralresolutionmeasurements\\.venv\\lib\\site-packages (from python-dateutil>=2.7->matplotlib) (1.16.0)\n",
      "Using cached matplotlib-3.9.2-cp311-cp311-win_amd64.whl (7.8 MB)\n",
      "Using cached contourpy-1.3.0-cp311-cp311-win_amd64.whl (217 kB)\n",
      "Using cached cycler-0.12.1-py3-none-any.whl (8.3 kB)\n",
      "Using cached fonttools-4.54.1-cp311-cp311-win_amd64.whl (2.2 MB)\n",
      "Using cached kiwisolver-1.4.7-cp311-cp311-win_amd64.whl (56 kB)\n",
      "Using cached pillow-10.4.0-cp311-cp311-win_amd64.whl (2.6 MB)\n",
      "Using cached pyparsing-3.1.4-py3-none-any.whl (104 kB)\n",
      "Installing collected packages: pyparsing, pillow, kiwisolver, fonttools, cycler, contourpy, matplotlib\n",
      "Successfully installed contourpy-1.3.0 cycler-0.12.1 fonttools-4.54.1 kiwisolver-1.4.7 matplotlib-3.9.2 pillow-10.4.0 pyparsing-3.1.4\n"
     ]
    }
   ],
   "source": [
    "pip install matplotlib"
   ]
  },
  {
   "cell_type": "code",
   "execution_count": 4,
   "metadata": {},
   "outputs": [
    {
     "name": "stdout",
     "output_type": "stream",
     "text": [
      "Collecting zhinst\n",
      "  Downloading zhinst-24.7.3-py3-none-any.whl.metadata (1.8 kB)\n",
      "Collecting zhinst.core==24.7.62562 (from zhinst)\n",
      "  Using cached zhinst_core-24.7.62562-cp311-cp311-win_amd64.whl.metadata (2.1 kB)\n",
      "Collecting zhinst.utils==0.5.0 (from zhinst)\n",
      "  Downloading zhinst_utils-0.5.0-py3-none-any.whl.metadata (2.2 kB)\n",
      "Collecting zhinst.toolkit==0.6.4 (from zhinst)\n",
      "  Using cached zhinst_toolkit-0.6.4-py3-none-any.whl.metadata (4.2 kB)\n",
      "Requirement already satisfied: typing-extensions in c:\\users\\mattl\\onedrive - university of cincinnati\\desktop\\work programs\\collection programs\\spectralresolutionmeasurements\\.venv\\lib\\site-packages (from zhinst.core==24.7.62562->zhinst) (4.12.2)\n",
      "Requirement already satisfied: numpy<3.0,>=1.23.2 in c:\\users\\mattl\\onedrive - university of cincinnati\\desktop\\work programs\\collection programs\\spectralresolutionmeasurements\\.venv\\lib\\site-packages (from zhinst.core==24.7.62562->zhinst) (2.1.2)\n",
      "Collecting jsonschema>=3.2.0 (from zhinst.toolkit==0.6.4->zhinst)\n",
      "  Using cached jsonschema-4.23.0-py3-none-any.whl.metadata (7.9 kB)\n",
      "Collecting jsonref>=0.2 (from zhinst.toolkit==0.6.4->zhinst)\n",
      "  Using cached jsonref-1.1.0-py3-none-any.whl.metadata (2.7 kB)\n",
      "Collecting pyelftools>=0.29 (from zhinst.toolkit==0.6.4->zhinst)\n",
      "  Using cached pyelftools-0.31-py3-none-any.whl.metadata (381 bytes)\n",
      "Collecting zhinst-timing-models (from zhinst.utils==0.5.0->zhinst)\n",
      "  Using cached zhinst_timing_models-24.7.62464-py3-none-any.whl.metadata (1.9 kB)\n",
      "Collecting attrs>=22.2.0 (from jsonschema>=3.2.0->zhinst.toolkit==0.6.4->zhinst)\n",
      "  Using cached attrs-24.2.0-py3-none-any.whl.metadata (11 kB)\n",
      "Collecting jsonschema-specifications>=2023.03.6 (from jsonschema>=3.2.0->zhinst.toolkit==0.6.4->zhinst)\n",
      "  Using cached jsonschema_specifications-2023.12.1-py3-none-any.whl.metadata (3.0 kB)\n",
      "Collecting referencing>=0.28.4 (from jsonschema>=3.2.0->zhinst.toolkit==0.6.4->zhinst)\n",
      "  Using cached referencing-0.35.1-py3-none-any.whl.metadata (2.8 kB)\n",
      "Collecting rpds-py>=0.7.1 (from jsonschema>=3.2.0->zhinst.toolkit==0.6.4->zhinst)\n",
      "  Using cached rpds_py-0.20.0-cp311-none-win_amd64.whl.metadata (4.2 kB)\n",
      "Downloading zhinst-24.7.3-py3-none-any.whl (2.5 kB)\n",
      "Using cached zhinst_core-24.7.62562-cp311-cp311-win_amd64.whl (9.1 MB)\n",
      "Using cached zhinst_toolkit-0.6.4-py3-none-any.whl (110 kB)\n",
      "Downloading zhinst_utils-0.5.0-py3-none-any.whl (52 kB)\n",
      "Using cached jsonref-1.1.0-py3-none-any.whl (9.4 kB)\n",
      "Using cached jsonschema-4.23.0-py3-none-any.whl (88 kB)\n",
      "Using cached pyelftools-0.31-py3-none-any.whl (180 kB)\n",
      "Using cached zhinst_timing_models-24.7.62464-py3-none-any.whl (6.8 kB)\n",
      "Using cached attrs-24.2.0-py3-none-any.whl (63 kB)\n",
      "Using cached jsonschema_specifications-2023.12.1-py3-none-any.whl (18 kB)\n",
      "Using cached referencing-0.35.1-py3-none-any.whl (26 kB)\n",
      "Using cached rpds_py-0.20.0-cp311-none-win_amd64.whl (213 kB)\n",
      "Installing collected packages: pyelftools, zhinst-timing-models, zhinst.core, rpds-py, jsonref, attrs, zhinst.utils, referencing, jsonschema-specifications, jsonschema, zhinst.toolkit, zhinst\n",
      "Successfully installed attrs-24.2.0 jsonref-1.1.0 jsonschema-4.23.0 jsonschema-specifications-2023.12.1 pyelftools-0.31 referencing-0.35.1 rpds-py-0.20.0 zhinst-24.7.3 zhinst-timing-models-24.7.62464 zhinst.core-24.7.62562 zhinst.toolkit-0.6.4 zhinst.utils-0.5.0\n",
      "Note: you may need to restart the kernel to use updated packages.\n"
     ]
    }
   ],
   "source": [
    "pip install zhinst"
   ]
  },
  {
   "cell_type": "code",
   "execution_count": 4,
   "metadata": {},
   "outputs": [
    {
     "name": "stdout",
     "output_type": "stream",
     "text": [
      "Collecting pysocket\n",
      "  Downloading pySocket-0.35.tar.gz (1.4 kB)\n",
      "  Installing build dependencies ... \u001b[?25ldone\n",
      "\u001b[?25h  Getting requirements to build wheel ... \u001b[?25ldone\n",
      "\u001b[?25h  Preparing metadata (pyproject.toml) ... \u001b[?25ldone\n",
      "\u001b[?25hBuilding wheels for collected packages: pysocket\n",
      "  Building wheel for pysocket (pyproject.toml) ... \u001b[?25ldone\n",
      "\u001b[?25h  Created wheel for pysocket: filename=pySocket-0.35-py3-none-any.whl size=1873 sha256=86c7815627773dcf14bf0b50a405efb563b611902b666b6aebef96e2ec56e6d2\n",
      "  Stored in directory: /home/matthew/.cache/pip/wheels/f3/7a/05/053e7718a36a81aab39d74f99f3e1eacb93a6e0a54dd06ee6b\n",
      "Successfully built pysocket\n",
      "Installing collected packages: pysocket\n",
      "Successfully installed pysocket-0.35\n",
      "Note: you may need to restart the kernel to use updated packages.\n"
     ]
    }
   ],
   "source": [
    "#pip install pysocket"
   ]
  },
  {
   "cell_type": "code",
   "execution_count": 5,
   "metadata": {},
   "outputs": [
    {
     "name": "stdout",
     "output_type": "stream",
     "text": [
      "Collecting pyserial\n",
      "  Using cached pyserial-3.5-py2.py3-none-any.whl.metadata (1.6 kB)\n",
      "Using cached pyserial-3.5-py2.py3-none-any.whl (90 kB)\n",
      "Installing collected packages: pyserial\n",
      "Successfully installed pyserial-3.5\n",
      "Note: you may need to restart the kernel to use updated packages.\n"
     ]
    }
   ],
   "source": [
    "pip install pyserial"
   ]
  },
  {
   "cell_type": "code",
   "execution_count": 1,
   "metadata": {},
   "outputs": [],
   "source": [
    "import serial.tools.list_ports as lport\n",
    "for cmport in lport.comports():\n",
    "    print(type(cmport.name))"
   ]
  },
  {
   "cell_type": "code",
   "execution_count": null,
   "metadata": {},
   "outputs": [],
   "source": []
  }
 ],
 "metadata": {
  "kernelspec": {
   "display_name": ".venv",
   "language": "python",
   "name": "python3"
  },
  "language_info": {
   "codemirror_mode": {
    "name": "ipython",
    "version": 3
   },
   "file_extension": ".py",
   "mimetype": "text/x-python",
   "name": "python",
   "nbconvert_exporter": "python",
   "pygments_lexer": "ipython3",
   "version": "3.11.5"
  }
 },
 "nbformat": 4,
 "nbformat_minor": 2
}
